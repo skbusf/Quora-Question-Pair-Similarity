{
 "cells": [
  {
   "cell_type": "code",
   "execution_count": 1,
   "id": "431a3dcf",
   "metadata": {},
   "outputs": [],
   "source": [
    "import pandas as pd\n",
    "import seaborn as sns\n",
    "from matplotlib import pyplot as plt\n",
    "import numpy as np\n",
    "import nltk\n",
    "from nltk.corpus import stopwords\n",
    "from nltk import WordNetLemmatizer\n",
    "from nltk.stem import PorterStemmer\n",
    "from sklearn.model_selection import train_test_split\n",
    "from sklearn.feature_extraction.text import CountVectorizer\n",
    "from sklearn.metrics.pairwise import cosine_similarity\n",
    "from sklearn.preprocessing import MinMaxScaler\n",
    "from sklearn.linear_model import LogisticRegression\n",
    "from sklearn.metrics import log_loss, accuracy_score\n",
    "from sklearn.ensemble import RandomForestClassifier\n",
    "from xgboost import XGBClassifier"
   ]
  },
  {
   "cell_type": "code",
   "execution_count": 9,
   "id": "c8f6be6c",
   "metadata": {},
   "outputs": [],
   "source": [
    "training_df = pd.read_csv(\"train.csv\")"
   ]
  },
  {
   "cell_type": "markdown",
   "id": "402029d9",
   "metadata": {},
   "source": [
    "# Exploratory Data Analysis "
   ]
  },
  {
   "cell_type": "code",
   "execution_count": 10,
   "id": "75c4b649",
   "metadata": {},
   "outputs": [
    {
     "data": {
      "text/plain": [
       "(404290, 6)"
      ]
     },
     "execution_count": 10,
     "metadata": {},
     "output_type": "execute_result"
    }
   ],
   "source": [
    "training_df.shape"
   ]
  },
  {
   "cell_type": "code",
   "execution_count": 11,
   "id": "bc1f52ef",
   "metadata": {},
   "outputs": [
    {
     "data": {
      "text/html": [
       "<div>\n",
       "<style scoped>\n",
       "    .dataframe tbody tr th:only-of-type {\n",
       "        vertical-align: middle;\n",
       "    }\n",
       "\n",
       "    .dataframe tbody tr th {\n",
       "        vertical-align: top;\n",
       "    }\n",
       "\n",
       "    .dataframe thead th {\n",
       "        text-align: right;\n",
       "    }\n",
       "</style>\n",
       "<table border=\"1\" class=\"dataframe\">\n",
       "  <thead>\n",
       "    <tr style=\"text-align: right;\">\n",
       "      <th></th>\n",
       "      <th>id</th>\n",
       "      <th>qid1</th>\n",
       "      <th>qid2</th>\n",
       "      <th>question1</th>\n",
       "      <th>question2</th>\n",
       "      <th>is_duplicate</th>\n",
       "    </tr>\n",
       "  </thead>\n",
       "  <tbody>\n",
       "    <tr>\n",
       "      <th>0</th>\n",
       "      <td>0</td>\n",
       "      <td>1</td>\n",
       "      <td>2</td>\n",
       "      <td>What is the step by step guide to invest in sh...</td>\n",
       "      <td>What is the step by step guide to invest in sh...</td>\n",
       "      <td>0</td>\n",
       "    </tr>\n",
       "    <tr>\n",
       "      <th>1</th>\n",
       "      <td>1</td>\n",
       "      <td>3</td>\n",
       "      <td>4</td>\n",
       "      <td>What is the story of Kohinoor (Koh-i-Noor) Dia...</td>\n",
       "      <td>What would happen if the Indian government sto...</td>\n",
       "      <td>0</td>\n",
       "    </tr>\n",
       "    <tr>\n",
       "      <th>2</th>\n",
       "      <td>2</td>\n",
       "      <td>5</td>\n",
       "      <td>6</td>\n",
       "      <td>How can I increase the speed of my internet co...</td>\n",
       "      <td>How can Internet speed be increased by hacking...</td>\n",
       "      <td>0</td>\n",
       "    </tr>\n",
       "    <tr>\n",
       "      <th>3</th>\n",
       "      <td>3</td>\n",
       "      <td>7</td>\n",
       "      <td>8</td>\n",
       "      <td>Why am I mentally very lonely? How can I solve...</td>\n",
       "      <td>Find the remainder when [math]23^{24}[/math] i...</td>\n",
       "      <td>0</td>\n",
       "    </tr>\n",
       "    <tr>\n",
       "      <th>4</th>\n",
       "      <td>4</td>\n",
       "      <td>9</td>\n",
       "      <td>10</td>\n",
       "      <td>Which one dissolve in water quikly sugar, salt...</td>\n",
       "      <td>Which fish would survive in salt water?</td>\n",
       "      <td>0</td>\n",
       "    </tr>\n",
       "  </tbody>\n",
       "</table>\n",
       "</div>"
      ],
      "text/plain": [
       "   id  qid1  qid2                                          question1  \\\n",
       "0   0     1     2  What is the step by step guide to invest in sh...   \n",
       "1   1     3     4  What is the story of Kohinoor (Koh-i-Noor) Dia...   \n",
       "2   2     5     6  How can I increase the speed of my internet co...   \n",
       "3   3     7     8  Why am I mentally very lonely? How can I solve...   \n",
       "4   4     9    10  Which one dissolve in water quikly sugar, salt...   \n",
       "\n",
       "                                           question2  is_duplicate  \n",
       "0  What is the step by step guide to invest in sh...             0  \n",
       "1  What would happen if the Indian government sto...             0  \n",
       "2  How can Internet speed be increased by hacking...             0  \n",
       "3  Find the remainder when [math]23^{24}[/math] i...             0  \n",
       "4            Which fish would survive in salt water?             0  "
      ]
     },
     "execution_count": 11,
     "metadata": {},
     "output_type": "execute_result"
    }
   ],
   "source": [
    "training_df.head(5)"
   ]
  },
  {
   "cell_type": "code",
   "execution_count": 6,
   "id": "55922f33",
   "metadata": {},
   "outputs": [
    {
     "data": {
      "text/plain": [
       "Index(['id', 'qid1', 'qid2', 'question1', 'question2', 'is_duplicate'], dtype='object')"
      ]
     },
     "execution_count": 6,
     "metadata": {},
     "output_type": "execute_result"
    }
   ],
   "source": [
    "training_df.columns"
   ]
  },
  {
   "cell_type": "code",
   "execution_count": 8,
   "id": "c920f0ba",
   "metadata": {},
   "outputs": [
    {
     "data": {
      "text/plain": [
       "0    0.630802\n",
       "1    0.369198\n",
       "Name: is_duplicate, dtype: float64"
      ]
     },
     "execution_count": 8,
     "metadata": {},
     "output_type": "execute_result"
    }
   ],
   "source": [
    "training_df[\"is_duplicate\"].value_counts(normalize = True)"
   ]
  },
  {
   "cell_type": "markdown",
   "id": "41219307",
   "metadata": {},
   "source": [
    "#### We see that calss variable consists of 0 for 63% and 1 for 37% of the rows "
   ]
  },
  {
   "cell_type": "code",
   "execution_count": 23,
   "id": "1222d111",
   "metadata": {},
   "outputs": [
    {
     "data": {
      "text/plain": [
       "Text(0.5, 1.0, 'Distrbution of Class')"
      ]
     },
     "execution_count": 23,
     "metadata": {},
     "output_type": "execute_result"
    },
    {
     "data": {
      "image/png": "[encoded data removed]",
      "text/plain": [
       "<Figure size 432x288 with 1 Axes>"
      ]
     },
     "metadata": {
      "needs_background": "light"
     },
     "output_type": "display_data"
    }
   ],
   "source": [
    "import warnings\n",
    "warnings.simplefilter(action=\"ignore\", category=FutureWarning)\n",
    "countPlot = sns.countplot(training_df[\"is_duplicate\"], data = training_df)\n",
    "countPlot.set_title(\"Distrbution of Class\")"
   ]
  },
  {
   "cell_type": "code",
   "execution_count": 24,
   "id": "c02b696a",
   "metadata": {},
   "outputs": [
    {
     "data": {
      "text/plain": [
       "id               int64\n",
       "qid1             int64\n",
       "qid2             int64\n",
       "question1       object\n",
       "question2       object\n",
       "is_duplicate     int64\n",
       "dtype: object"
      ]
     },
     "execution_count": 24,
     "metadata": {},
     "output_type": "execute_result"
    }
   ],
   "source": [
    "#Question Analysis\n",
    "training_df.dtypes"
   ]
  },
  {
   "cell_type": "code",
   "execution_count": 25,
   "id": "3210464f",
   "metadata": {},
   "outputs": [],
   "source": [
    "#converting question 1 and question 2 to string Data Types\n",
    "training_df[\"question1\"] = training_df[\"question1\"].astype(str)\n",
    "training_df[\"question2\"] = training_df[\"question2\"].astype(str)"
   ]
  },
  {
   "cell_type": "code",
   "execution_count": 26,
   "id": "9f4540df",
   "metadata": {},
   "outputs": [
    {
     "data": {
      "text/plain": [
       "1169"
      ]
     },
     "execution_count": 26,
     "metadata": {},
     "output_type": "execute_result"
    }
   ],
   "source": [
    "#max length of question 1\n",
    "max(training_df[\"question2\"].apply(len))"
   ]
  },
  {
   "cell_type": "code",
   "execution_count": 27,
   "id": "43284f33",
   "metadata": {},
   "outputs": [
    {
     "data": {
      "text/plain": [
       "623"
      ]
     },
     "execution_count": 27,
     "metadata": {},
     "output_type": "execute_result"
    }
   ],
   "source": [
    "#max length of question 2\n",
    "max(training_df[\"question1\"].apply(len))"
   ]
  },
  {
   "cell_type": "code",
   "execution_count": 28,
   "id": "6b51368a",
   "metadata": {},
   "outputs": [
    {
     "data": {
      "text/plain": [
       "<matplotlib.legend.Legend at 0x7fa419a86ca0>"
      ]
     },
     "execution_count": 28,
     "metadata": {},
     "output_type": "execute_result"
    },
    {
     "data": {
      "image/png": "[encoded data removed]",
      "text/plain": [
       "<Figure size 576x288 with 1 Axes>"
      ]
     },
     "metadata": {
      "needs_background": "light"
     },
     "output_type": "display_data"
    }
   ],
   "source": [
    "#plotting the character length distribution for question1 and question2 \n",
    "from matplotlib import pyplot as plt\n",
    "plt.figure(figsize = (8,4))\n",
    "plt.hist(training_df[\"question1\"].apply(len), bins = 200, range = [0,200], color = \"r\")\n",
    "plt.hist(training_df[\"question2\"].apply(len), bins = 200, range = [0,200], color = \"y\")\n",
    "plt.title(\"Character length distribution of 2 questions\")\n",
    "plt.xlabel(\"Number of Characters\")\n",
    "plt.ylabel(\"Number of Questions\")\n",
    "plt.legend([\"question1\", \"question2\"])"
   ]
  },
  {
   "cell_type": "markdown",
   "id": "d59fc11a",
   "metadata": {},
   "source": [
    "#### In terms of number of characters, the distributions for both problems are almost the same"
   ]
  },
  {
   "cell_type": "code",
   "execution_count": 29,
   "id": "c980687f",
   "metadata": {},
   "outputs": [],
   "source": [
    "#finding the absolute length difference between question1 and question2\n",
    "question1_length = training_df[\"question1\"].apply(len)\n",
    "question2_length = training_df[\"question2\"].apply(len)\n",
    "difference_length = np.abs(question1_length-question2_length)"
   ]
  },
  {
   "cell_type": "code",
   "execution_count": 30,
   "id": "e4505691",
   "metadata": {},
   "outputs": [
    {
     "data": {
      "text/plain": [
       "<matplotlib.legend.Legend at 0x7fa3ba05a8e0>"
      ]
     },
     "execution_count": 30,
     "metadata": {},
     "output_type": "execute_result"
    },
    {
     "data": {
      "image/png": "[encoded data removed]",
      "text/plain": [
       "<Figure size 576x288 with 1 Axes>"
      ]
     },
     "metadata": {
      "needs_background": "light"
     },
     "output_type": "display_data"
    }
   ],
   "source": [
    "#plotting the absolute length difference based on the class variable values of 0 and 1\n",
    "plt.figure(figsize = (8,4))\n",
    "plt.hist(difference_length[training_df[\"is_duplicate\"]==0], bins = 100, color = \"y\", range = [0,200])\n",
    "plt.hist(difference_length[training_df[\"is_duplicate\"]==1], bins = 100, color = \"g\", range = [0,200])\n",
    "plt.title(\"Distribution of Class by character length difference\")\n",
    "plt.xlabel(\"Number of Characters\")\n",
    "plt.ylabel(\"Counts\")\n",
    "plt.legend([\"Not Duplicate\", \"Duplicate\"])"
   ]
  },
  {
   "cell_type": "markdown",
   "id": "7b06b6ed",
   "metadata": {},
   "source": [
    "#### For duplicate class the character difference is less "
   ]
  },
  {
   "cell_type": "markdown",
   "id": "438f7558",
   "metadata": {},
   "source": [
    "# Data Cleaning and Root Word Generation:\n",
    "### Following tasks are done \n",
    "\n",
    "1. Cleaning\n",
    "    a. Lowercase\n",
    "    b. tokenization\n",
    "    c. Removing Stopwords\n",
    "    d. Removing non Alpha numeric characters\n",
    "2. Lemmatization / Stemming\n",
    "3. Dividing into training (95%) and test set(5%)\n"
   ]
  },
  {
   "cell_type": "code",
   "execution_count": 13,
   "id": "82a9fa70",
   "metadata": {},
   "outputs": [
    {
     "name": "stdout",
     "output_type": "stream",
     "text": [
      "['i', 'me', 'my', 'myself', 'we', 'our', 'ours', 'ourselves', 'you', \"you're\", \"you've\", \"you'll\", \"you'd\", 'your', 'yours', 'yourself', 'yourselves', 'he', 'him', 'his', 'himself', 'she', \"she's\", 'her', 'hers', 'herself', 'it', \"it's\", 'its', 'itself', 'they', 'them', 'their', 'theirs', 'themselves', 'what', 'which', 'who', 'whom', 'this', 'that', \"that'll\", 'these', 'those', 'am', 'is', 'are', 'was', 'were', 'be', 'been', 'being', 'have', 'has', 'had', 'having', 'do', 'does', 'did', 'doing', 'a', 'an', 'the', 'and', 'but', 'if', 'or', 'because', 'as', 'until', 'while', 'of', 'at', 'by', 'for', 'with', 'about', 'against', 'between', 'into', 'through', 'during', 'before', 'after', 'above', 'below', 'to', 'from', 'up', 'down', 'in', 'out', 'on', 'off', 'over', 'under', 'again', 'further', 'then', 'once', 'here', 'there', 'when', 'where', 'why', 'how', 'all', 'any', 'both', 'each', 'few', 'more', 'most', 'other', 'some', 'such', 'no', 'nor', 'not', 'only', 'own', 'same', 'so', 'than', 'too', 'very', 's', 't', 'can', 'will', 'just', 'don', \"don't\", 'should', \"should've\", 'now', 'd', 'll', 'm', 'o', 're', 've', 'y', 'ain', 'aren', \"aren't\", 'couldn', \"couldn't\", 'didn', \"didn't\", 'doesn', \"doesn't\", 'hadn', \"hadn't\", 'hasn', \"hasn't\", 'haven', \"haven't\", 'isn', \"isn't\", 'ma', 'mightn', \"mightn't\", 'mustn', \"mustn't\", 'needn', \"needn't\", 'shan', \"shan't\", 'shouldn', \"shouldn't\", 'wasn', \"wasn't\", 'weren', \"weren't\", 'won', \"won't\", 'wouldn', \"wouldn't\"]\n"
     ]
    }
   ],
   "source": [
    "english_stopwords = stopwords.words(\"english\")\n",
    "print(stopwords.words(\"english\"))"
   ]
  },
  {
   "cell_type": "code",
   "execution_count": 32,
   "id": "8f519e15",
   "metadata": {},
   "outputs": [],
   "source": [
    "#data_cleaning method to remove stop words\n",
    "def data_cleaning(text):\n",
    "    text = text.lower()\n",
    "    words = nltk.word_tokenize(text)\n",
    "    words = [i for i in words if i not in english_stopwords and i.isalnum()]\n",
    "    return words"
   ]
  },
  {
   "cell_type": "code",
   "execution_count": 33,
   "id": "e0d75383",
   "metadata": {},
   "outputs": [],
   "source": [
    "#using the data cleaning method to filter question1 and question2\n",
    "q1 = training_df[\"question1\"].apply(data_cleaning)\n",
    "q2 = training_df[\"question2\"].apply(data_cleaning)"
   ]
  },
  {
   "cell_type": "code",
   "execution_count": 34,
   "id": "689df606",
   "metadata": {},
   "outputs": [
    {
     "data": {
      "text/plain": [
       "0    [step, step, guide, invest, share, market, india]\n",
       "1                           [story, kohinoor, diamond]\n",
       "2    [increase, speed, internet, connection, using,...\n",
       "3                            [mentally, lonely, solve]\n",
       "4    [one, dissolve, water, quikly, sugar, salt, me...\n",
       "Name: question1, dtype: object"
      ]
     },
     "execution_count": 34,
     "metadata": {},
     "output_type": "execute_result"
    }
   ],
   "source": [
    "q1.head(5)"
   ]
  },
  {
   "cell_type": "code",
   "execution_count": 35,
   "id": "147303a1",
   "metadata": {},
   "outputs": [
    {
     "data": {
      "text/plain": [
       "0           [step, step, guide, invest, share, market]\n",
       "1    [would, happen, indian, government, stole, koh...\n",
       "2           [internet, speed, increased, hacking, dns]\n",
       "3                 [find, remainder, math, 24, divided]\n",
       "4                  [fish, would, survive, salt, water]\n",
       "Name: question2, dtype: object"
      ]
     },
     "execution_count": 35,
     "metadata": {},
     "output_type": "execute_result"
    }
   ],
   "source": [
    "q2.head(5)"
   ]
  },
  {
   "cell_type": "code",
   "execution_count": 36,
   "id": "a1cb39ce",
   "metadata": {},
   "outputs": [],
   "source": [
    "#Method to create lemmatized words using WordNetLemmatizer of nltk package\n",
    "lemmatizer = WordNetLemmatizer()\n",
    "def lemmatized_words(text):\n",
    "    return \" \".join([lemmatizer.lemmatize(i) for i in text])"
   ]
  },
  {
   "cell_type": "code",
   "execution_count": 37,
   "id": "3cd13005",
   "metadata": {},
   "outputs": [],
   "source": [
    "q1_lemmatized = q1.apply(lemmatized_words)\n",
    "q2_lemmatized = q2.apply(lemmatized_words) "
   ]
  },
  {
   "cell_type": "code",
   "execution_count": 38,
   "id": "3ad036ef",
   "metadata": {},
   "outputs": [
    {
     "data": {
      "text/plain": [
       "0            step step guide invest share market india\n",
       "1                               story kohinoor diamond\n",
       "2         increase speed internet connection using vpn\n",
       "3                                mentally lonely solve\n",
       "4    one dissolve water quikly sugar salt methane c...\n",
       "Name: question1, dtype: object"
      ]
     },
     "execution_count": 38,
     "metadata": {},
     "output_type": "execute_result"
    }
   ],
   "source": [
    "q1_lemmatized.head(5)"
   ]
  },
  {
   "cell_type": "code",
   "execution_count": 39,
   "id": "5ae28f64",
   "metadata": {},
   "outputs": [
    {
     "data": {
      "text/plain": [
       "0                  step step guide invest share market\n",
       "1    would happen indian government stole kohinoor ...\n",
       "2                 internet speed increased hacking dns\n",
       "3                       find remainder math 24 divided\n",
       "4                        fish would survive salt water\n",
       "Name: question2, dtype: object"
      ]
     },
     "execution_count": 39,
     "metadata": {},
     "output_type": "execute_result"
    }
   ],
   "source": [
    "q2_lemmatized.head(5)"
   ]
  },
  {
   "cell_type": "code",
   "execution_count": 40,
   "id": "a4043d6c",
   "metadata": {},
   "outputs": [],
   "source": [
    "#Method to create stemmed words using PorterStemmer of nltk package\n",
    "stemmer = PorterStemmer()\n",
    "def stemming_words(text):\n",
    "    return \" \".join([stemmer.stem(i) for i in text]) "
   ]
  },
  {
   "cell_type": "code",
   "execution_count": 41,
   "id": "d0e1037d",
   "metadata": {},
   "outputs": [],
   "source": [
    "q1_stemmed = q1.apply(stemming_words)\n",
    "q2_stemmed = q2.apply(stemming_words)"
   ]
  },
  {
   "cell_type": "code",
   "execution_count": 42,
   "id": "4a38e8c0",
   "metadata": {},
   "outputs": [
    {
     "data": {
      "text/plain": [
       "0             step step guid invest share market india\n",
       "1                               stori kohinoor diamond\n",
       "2               increas speed internet connect use vpn\n",
       "3                                     mental lone solv\n",
       "4    one dissolv water quikli sugar salt methan car...\n",
       "Name: question1, dtype: object"
      ]
     },
     "execution_count": 42,
     "metadata": {},
     "output_type": "execute_result"
    }
   ],
   "source": [
    "q1_stemmed.head(5)"
   ]
  },
  {
   "cell_type": "code",
   "execution_count": 52,
   "id": "23cd3be6",
   "metadata": {},
   "outputs": [
    {
     "data": {
      "text/plain": [
       "0                   step step guid invest share market\n",
       "1    would happen indian govern stole kohinoor diam...\n",
       "2                       internet speed increas hack dn\n",
       "3                           find remaind math 24 divid\n",
       "4                         fish would surviv salt water\n",
       "Name: question2, dtype: object"
      ]
     },
     "execution_count": 52,
     "metadata": {},
     "output_type": "execute_result"
    }
   ],
   "source": [
    "q2_stemmed.head(5)\n"
   ]
  },
  {
   "cell_type": "code",
   "execution_count": 53,
   "id": "faab93d5",
   "metadata": {},
   "outputs": [],
   "source": [
    "#splitting the data into train and test with 95% being train and 5% test data\n",
    "#using the random seed to split the data\n",
    "seed = 37187892\n",
    "iv_train , iv_test, cv_train, cv_test = train_test_split(np.arange(0,training_df.shape[0]), training_df[\"is_duplicate\"], train_size = 0.95, stratify = training_df[\"is_duplicate\"], random_state = seed)"
   ]
  },
  {
   "cell_type": "code",
   "execution_count": 54,
   "id": "da2a735b",
   "metadata": {},
   "outputs": [],
   "source": [
    "#getting the corresponding questions data using iloc method\n",
    "ds_clean = pd.DataFrame({\"q1\":q1_stemmed, \"q2\":q2_stemmed})\n",
    "ds_clean.to_csv(\"d_clean_new.csv\", index = False)\n",
    "ds_train, ds_test = ds_clean.iloc[iv_train, :], ds_clean.iloc[iv_test, :]"
   ]
  },
  {
   "cell_type": "code",
   "execution_count": 55,
   "id": "19c236ac",
   "metadata": {},
   "outputs": [
    {
     "data": {
      "text/html": [
       "<div>\n",
       "<style scoped>\n",
       "    .dataframe tbody tr th:only-of-type {\n",
       "        vertical-align: middle;\n",
       "    }\n",
       "\n",
       "    .dataframe tbody tr th {\n",
       "        vertical-align: top;\n",
       "    }\n",
       "\n",
       "    .dataframe thead th {\n",
       "        text-align: right;\n",
       "    }\n",
       "</style>\n",
       "<table border=\"1\" class=\"dataframe\">\n",
       "  <thead>\n",
       "    <tr style=\"text-align: right;\">\n",
       "      <th></th>\n",
       "      <th>q1</th>\n",
       "      <th>q2</th>\n",
       "    </tr>\n",
       "  </thead>\n",
       "  <tbody>\n",
       "    <tr>\n",
       "      <th>31326</th>\n",
       "      <td>small town indian dropout colleg follow passio...</td>\n",
       "      <td>end go mediocr colleg affect option master abroad</td>\n",
       "    </tr>\n",
       "    <tr>\n",
       "      <th>302555</th>\n",
       "      <td>evid conscious surviv death</td>\n",
       "      <td>tangibl evid life death</td>\n",
       "    </tr>\n",
       "    <tr>\n",
       "      <th>262996</th>\n",
       "      <td>differ cast religion</td>\n",
       "      <td>fact indian templ</td>\n",
       "    </tr>\n",
       "    <tr>\n",
       "      <th>323785</th>\n",
       "      <td>handicap passion comput web current work junio...</td>\n",
       "      <td>think late start program want get junior web d...</td>\n",
       "    </tr>\n",
       "    <tr>\n",
       "      <th>253533</th>\n",
       "      <td>phone buy inr 15k</td>\n",
       "      <td>good smartphon 15k</td>\n",
       "    </tr>\n",
       "  </tbody>\n",
       "</table>\n",
       "</div>"
      ],
      "text/plain": [
       "                                                       q1  \\\n",
       "31326   small town indian dropout colleg follow passio...   \n",
       "302555                        evid conscious surviv death   \n",
       "262996                               differ cast religion   \n",
       "323785  handicap passion comput web current work junio...   \n",
       "253533                                  phone buy inr 15k   \n",
       "\n",
       "                                                       q2  \n",
       "31326   end go mediocr colleg affect option master abroad  \n",
       "302555                            tangibl evid life death  \n",
       "262996                                  fact indian templ  \n",
       "323785  think late start program want get junior web d...  \n",
       "253533                                 good smartphon 15k  "
      ]
     },
     "execution_count": 55,
     "metadata": {},
     "output_type": "execute_result"
    }
   ],
   "source": [
    "ds_train.head(5)"
   ]
  },
  {
   "cell_type": "code",
   "execution_count": 56,
   "id": "5cbe951e",
   "metadata": {},
   "outputs": [],
   "source": [
    "#finding the difference of length of questions for train and test sets\n",
    "diff_length_train = difference_length[iv_train]\n",
    "diff_length_test = difference_length[iv_test]"
   ]
  },
  {
   "cell_type": "markdown",
   "id": "8d0269c8",
   "metadata": {},
   "source": [
    "# Character Counts"
   ]
  },
  {
   "cell_type": "code",
   "execution_count": 57,
   "id": "1deb2648",
   "metadata": {},
   "outputs": [],
   "source": [
    "ques_train = pd.concat([ds_train[\"q1\"], ds_train[\"q2\"]], axis = 0)"
   ]
  },
  {
   "cell_type": "code",
   "execution_count": 58,
   "id": "6abd6d24",
   "metadata": {},
   "outputs": [
    {
     "data": {
      "text/plain": [
       "31326     small town indian dropout colleg follow passio...\n",
       "302555                          evid conscious surviv death\n",
       "262996                                 differ cast religion\n",
       "323785    handicap passion comput web current work junio...\n",
       "253533                                    phone buy inr 15k\n",
       "dtype: object"
      ]
     },
     "execution_count": 58,
     "metadata": {},
     "output_type": "execute_result"
    }
   ],
   "source": [
    "ques_train.head(5)"
   ]
  },
  {
   "cell_type": "code",
   "execution_count": 60,
   "id": "1f5b11de",
   "metadata": {},
   "outputs": [],
   "source": [
    "#Using countvectorizer to form counts of repeated words and ngrams of 2 to 6\n",
    "counts_vector = CountVectorizer(analyzer = \"char\", ngram_range = (2,6))\n",
    "counts_vector.fit(ques_train);"
   ]
  },
  {
   "cell_type": "code",
   "execution_count": 61,
   "id": "509c4ecb",
   "metadata": {},
   "outputs": [
    {
     "data": {
      "text/plain": [
       "<bound method CountVectorizer.get_feature_names of CountVectorizer(analyzer='char', ngram_range=(2, 6))>"
      ]
     },
     "execution_count": 61,
     "metadata": {},
     "output_type": "execute_result"
    }
   ],
   "source": [
    "counts_vector.get_feature_names"
   ]
  },
  {
   "cell_type": "code",
   "execution_count": 62,
   "id": "fcc2ae27",
   "metadata": {},
   "outputs": [],
   "source": [
    "char_q1_train = counts_vector.transform(ds_train[\"q1\"])\n",
    "char_q2_train = counts_vector.transform(ds_train[\"q2\"])\n",
    "char_q1_test = counts_vector.transform(ds_test[\"q1\"])\n",
    "char_q2_test = counts_vector.transform(ds_test[\"q2\"])"
   ]
  },
  {
   "cell_type": "markdown",
   "id": "de4e0e92",
   "metadata": {},
   "source": [
    "# Cosine Similarity"
   ]
  },
  {
   "cell_type": "code",
   "execution_count": 64,
   "id": "5198975e",
   "metadata": {},
   "outputs": [],
   "source": [
    "# method to find cosine similarity between 2 vectors using sklearn cosine_similarity method\n",
    "def cos_sim(vector1, vector2):\n",
    "    cosine_sim = np.empty([vector1.shape[0], 1])\n",
    "    for i,v in enumerate(zip(vector1, vector2)):\n",
    "        cosine_sim[i] = (float(cosine_similarity(v[0], v[1])))\n",
    "    return cosine_sim"
   ]
  },
  {
   "cell_type": "code",
   "execution_count": 65,
   "id": "873918bf",
   "metadata": {},
   "outputs": [],
   "source": [
    "# cosine similarity for training data\n",
    "cosine_sim_train = cos_sim(char_q1_train, char_q2_train)"
   ]
  },
  {
   "cell_type": "code",
   "execution_count": 66,
   "id": "125af6cd",
   "metadata": {},
   "outputs": [],
   "source": [
    "# cosine similarity for testing data\n",
    "cosine_sim_test = cos_sim(char_q1_test, char_q2_test)"
   ]
  },
  {
   "cell_type": "markdown",
   "id": "2db2989a",
   "metadata": {},
   "source": [
    "# Combining Features & Normalizing\n",
    "Combine diff_len and cos_sim with char counts as 2 feature for the model\n",
    "Normalize using min max scaler"
   ]
  },
  {
   "cell_type": "code",
   "execution_count": 67,
   "id": "87224b11",
   "metadata": {},
   "outputs": [],
   "source": [
    "features_train = pd.DataFrame({\"diff_len\": diff_length_train, \"cos_sim\": list(cosine_sim_train)})\n",
    "features_test = pd.DataFrame({\"diff_len\": diff_length_test, \"cos_sim\": list(cosine_sim_test)})"
   ]
  },
  {
   "cell_type": "code",
   "execution_count": 68,
   "id": "25323d57",
   "metadata": {},
   "outputs": [],
   "source": [
    "scaler = MinMaxScaler()\n",
    "scaler.fit(features_train)\n",
    "features_train_new = scaler.transform(features_train)\n",
    "features_test_new = scaler.transform(features_test)"
   ]
  },
  {
   "cell_type": "markdown",
   "id": "d1957080",
   "metadata": {},
   "source": [
    "# Modeling\n",
    "## Logistic Regression"
   ]
  },
  {
   "cell_type": "code",
   "execution_count": 117,
   "id": "23d4c2ac",
   "metadata": {},
   "outputs": [],
   "source": [
    "cosine_summary = pd.DataFrame(columns = [\"Model Type using Diff_len & Char_counts\",\n",
    "                                         \"Log Loss Score\",\"Accuracy Score\"])"
   ]
  },
  {
   "cell_type": "code",
   "execution_count": 118,
   "id": "cd4b6d88",
   "metadata": {},
   "outputs": [],
   "source": [
    "lr_model = LogisticRegression()\n",
    "lr_model.fit(features_train_new , cv_train)\n",
    "predictions_train = lr_model.predict_proba(features_train_new)[:,1];"
   ]
  },
  {
   "cell_type": "code",
   "execution_count": 119,
   "id": "db40529e",
   "metadata": {},
   "outputs": [
    {
     "data": {
      "image/png": "[encoded data removed]",
      "text/plain": [
       "<Figure size 1008x288 with 2 Axes>"
      ]
     },
     "metadata": {
      "needs_background": "light"
     },
     "output_type": "display_data"
    }
   ],
   "source": [
    "fig, img = plt.subplots(1,2, figsize = (14,4))\n",
    "img[0].hist(predictions_train[cv_train==0], bins = 100)\n",
    "img[0].hist(predictions_train[cv_train==1], bins = 100)\n",
    "img[0].set_title(\"Probablities Distribution by Class\")\n",
    "img[0].legend([\"0\",\"1\"])\n",
    "\n",
    "output_lr = pd.DataFrame({\"LR_predictions\":predictions_train, \"y\":cv_train})\n",
    "sns.boxplot(x=\"y\", y=\"LR_predictions\", data = output_lr, ax = img[1])\n",
    "img[1].set_ylabel(\"Predicted Probablities\")\n",
    "img[1].set_xlabel(\"Duplicate\")\n",
    "img[1].set_title(\"Probablities by Class\");"
   ]
  },
  {
   "cell_type": "code",
   "execution_count": 120,
   "id": "d323f385",
   "metadata": {},
   "outputs": [],
   "source": [
    "predictions_test = lr_model.predict_proba(features_test_new)[:,1]\n",
    "log_loss_score = log_loss(cv_test, predictions_test)\n",
    "accuracy = lr_model.score(features_test_new, cv_test)"
   ]
  },
  {
   "cell_type": "code",
   "execution_count": 121,
   "id": "f3dee2ba",
   "metadata": {},
   "outputs": [
    {
     "data": {
      "image/png": "[encoded data removed]",
      "text/plain": [
       "<Figure size 1008x288 with 2 Axes>"
      ]
     },
     "metadata": {
      "needs_background": "light"
     },
     "output_type": "display_data"
    }
   ],
   "source": [
    "fig, img = plt.subplots(1,2, figsize = (14,4))\n",
    "img[0].hist(predictions_test[cv_test==0], bins = 100)\n",
    "img[0].hist(predictions_test[cv_test==1], bins = 100)\n",
    "img[0].set_title(\"Probablities Distribution by Class for Test Set\")\n",
    "img[0].legend([\"0\",\"1\"])\n",
    "\n",
    "output_lr = pd.DataFrame({\"LR_predictions\":predictions_test, \"y\":cv_test})\n",
    "sns.boxplot(x=\"y\", y=\"LR_predictions\", data = output_lr, ax = img[1])\n",
    "img[1].set_ylabel(\"Predicted Probablities\")\n",
    "img[1].set_xlabel(\"Duplicate\")\n",
    "img[1].set_title(\"Probablities by Class for Test Set\");\n"
   ]
  },
  {
   "cell_type": "code",
   "execution_count": 122,
   "id": "5f35a643",
   "metadata": {},
   "outputs": [],
   "source": [
    "cosine_summary  = cosine_summary.append({\"Model Type using Diff_len & Char_counts\":\"Logistic Regression\", \"Log Loss Score\":np.round(log_loss_score,4), \"Accuracy Score\":np.round(accuracy,4)}, ignore_index = True)\n"
   ]
  },
  {
   "cell_type": "code",
   "execution_count": 123,
   "id": "96efd948",
   "metadata": {},
   "outputs": [
    {
     "data": {
      "text/html": [
       "<div>\n",
       "<style scoped>\n",
       "    .dataframe tbody tr th:only-of-type {\n",
       "        vertical-align: middle;\n",
       "    }\n",
       "\n",
       "    .dataframe tbody tr th {\n",
       "        vertical-align: top;\n",
       "    }\n",
       "\n",
       "    .dataframe thead th {\n",
       "        text-align: right;\n",
       "    }\n",
       "</style>\n",
       "<table border=\"1\" class=\"dataframe\">\n",
       "  <thead>\n",
       "    <tr style=\"text-align: right;\">\n",
       "      <th></th>\n",
       "      <th>Model Type using Diff_len &amp; Char_counts</th>\n",
       "      <th>Log Loss Score</th>\n",
       "      <th>Accuracy Score</th>\n",
       "    </tr>\n",
       "  </thead>\n",
       "  <tbody>\n",
       "    <tr>\n",
       "      <th>0</th>\n",
       "      <td>Logistic Regression</td>\n",
       "      <td>0.5715</td>\n",
       "      <td>0.6571</td>\n",
       "    </tr>\n",
       "  </tbody>\n",
       "</table>\n",
       "</div>"
      ],
      "text/plain": [
       "  Model Type using Diff_len & Char_counts  Log Loss Score  Accuracy Score\n",
       "0                     Logistic Regression          0.5715          0.6571"
      ]
     },
     "execution_count": 123,
     "metadata": {},
     "output_type": "execute_result"
    }
   ],
   "source": [
    "cosine_summary"
   ]
  },
  {
   "cell_type": "markdown",
   "id": "129659e6",
   "metadata": {},
   "source": [
    "## Random Forest"
   ]
  },
  {
   "cell_type": "code",
   "execution_count": 124,
   "id": "d9f137c0",
   "metadata": {},
   "outputs": [],
   "source": [
    "rf_model = RandomForestClassifier(max_depth = 8, n_estimators = 700)\n",
    "rf_model.fit(features_train_new , cv_train)\n",
    "predictions_train = rf_model.predict_proba(features_train_new)[:,1];"
   ]
  },
  {
   "cell_type": "code",
   "execution_count": 125,
   "id": "0914ac19",
   "metadata": {},
   "outputs": [
    {
     "data": {
      "image/png": "[encoded data removed]",
      "text/plain": [
       "<Figure size 1008x288 with 2 Axes>"
      ]
     },
     "metadata": {
      "needs_background": "light"
     },
     "output_type": "display_data"
    }
   ],
   "source": [
    "fig, img = plt.subplots(1,2, figsize = (14,4))\n",
    "img[0].hist(predictions_train[cv_train==0], bins = 100)\n",
    "img[0].hist(predictions_train[cv_train==1], bins = 100)\n",
    "img[0].set_title(\"Probablities Distribution by Class for Train Set\")\n",
    "img[0].legend([\"0\",\"1\"])\n",
    "\n",
    "preds_labels = pd.DataFrame({\"LR_predictions\":predictions_train, \"y\":cv_train})\n",
    "sns.boxplot(x=\"y\", y=\"LR_predictions\", data = preds_labels, ax = img[1])\n",
    "img[1].set_ylabel(\"Predicted Probablities\")\n",
    "img[1].set_xlabel(\"Duplicate\")\n",
    "img[1].set_title(\"Probablities by Class for Train Set\");"
   ]
  },
  {
   "cell_type": "code",
   "execution_count": 126,
   "id": "9f1ed239",
   "metadata": {},
   "outputs": [],
   "source": [
    "predictions_test = rf_model.predict_proba(features_test_new)[:,1]\n",
    "log_loss_score = log_loss(cv_test, predictions_test)\n",
    "accuracy = rf_model.score(features_test_new, cv_test)"
   ]
  },
  {
   "cell_type": "code",
   "execution_count": 127,
   "id": "6d9431b9",
   "metadata": {},
   "outputs": [
    {
     "data": {
      "image/png": "[encoded data removed]",
      "text/plain": [
       "<Figure size 1008x288 with 2 Axes>"
      ]
     },
     "metadata": {
      "needs_background": "light"
     },
     "output_type": "display_data"
    }
   ],
   "source": [
    "fig, img = plt.subplots(1,2, figsize = (14,4))\n",
    "img[0].hist(predictions_test[cv_test==0], bins = 100)\n",
    "img[0].hist(predictions_test[cv_test==1], bins = 100)\n",
    "img[0].set_title(\"Probablities Distribution by Class for Test Set\")\n",
    "img[0].legend([\"0\",\"1\"])\n",
    "\n",
    "preds_labels = pd.DataFrame({\"LR_predictions\":predictions_test, \"y\":cv_test})\n",
    "sns.boxplot(x=\"y\", y=\"LR_predictions\", data = preds_labels, ax = img[1])\n",
    "img[1].set_ylabel(\"Predicted Probablities\")\n",
    "img[1].set_xlabel(\"Duplicate\")\n",
    "img[1].set_title(\"Probablities by Class for Test Set\");"
   ]
  },
  {
   "cell_type": "code",
   "execution_count": 128,
   "id": "f9211a34",
   "metadata": {},
   "outputs": [],
   "source": [
    "cosine_summary  = cosine_summary.append({\"Model Type using Diff_len & Char_counts\":\"Random Forest\", \"Log Loss Score\":np.round(log_loss_score,4), \"Accuracy Score\":np.round(accuracy,4)}, ignore_index = True)"
   ]
  },
  {
   "cell_type": "code",
   "execution_count": 129,
   "id": "940f3318",
   "metadata": {},
   "outputs": [
    {
     "data": {
      "text/html": [
       "<div>\n",
       "<style scoped>\n",
       "    .dataframe tbody tr th:only-of-type {\n",
       "        vertical-align: middle;\n",
       "    }\n",
       "\n",
       "    .dataframe tbody tr th {\n",
       "        vertical-align: top;\n",
       "    }\n",
       "\n",
       "    .dataframe thead th {\n",
       "        text-align: right;\n",
       "    }\n",
       "</style>\n",
       "<table border=\"1\" class=\"dataframe\">\n",
       "  <thead>\n",
       "    <tr style=\"text-align: right;\">\n",
       "      <th></th>\n",
       "      <th>Model Type using Diff_len &amp; Char_counts</th>\n",
       "      <th>Log Loss Score</th>\n",
       "      <th>Accuracy Score</th>\n",
       "    </tr>\n",
       "  </thead>\n",
       "  <tbody>\n",
       "    <tr>\n",
       "      <th>0</th>\n",
       "      <td>Logistic Regression</td>\n",
       "      <td>0.5715</td>\n",
       "      <td>0.6571</td>\n",
       "    </tr>\n",
       "    <tr>\n",
       "      <th>1</th>\n",
       "      <td>Random Forest</td>\n",
       "      <td>0.5422</td>\n",
       "      <td>0.6792</td>\n",
       "    </tr>\n",
       "  </tbody>\n",
       "</table>\n",
       "</div>"
      ],
      "text/plain": [
       "  Model Type using Diff_len & Char_counts  Log Loss Score  Accuracy Score\n",
       "0                     Logistic Regression          0.5715          0.6571\n",
       "1                           Random Forest          0.5422          0.6792"
      ]
     },
     "execution_count": 129,
     "metadata": {},
     "output_type": "execute_result"
    }
   ],
   "source": [
    "cosine_summary"
   ]
  },
  {
   "cell_type": "markdown",
   "id": "9e3a438e",
   "metadata": {},
   "source": [
    "#### XGBoost"
   ]
  },
  {
   "cell_type": "code",
   "execution_count": 130,
   "id": "6f2b45e3",
   "metadata": {},
   "outputs": [
    {
     "name": "stderr",
     "output_type": "stream",
     "text": [
      "/Users/saikiranbatchu/opt/anaconda3/lib/python3.9/site-packages/xgboost/sklearn.py:1224: UserWarning: The use of label encoder in XGBClassifier is deprecated and will be removed in a future release. To remove this warning, do the following: 1) Pass option use_label_encoder=False when constructing XGBClassifier object; and 2) Encode your labels (y) as integers starting with 0, i.e. 0, 1, 2, ..., [num_class - 1].\n",
      "  warnings.warn(label_encoder_deprecation_msg, UserWarning)\n"
     ]
    },
    {
     "name": "stdout",
     "output_type": "stream",
     "text": [
      "[22:48:23] WARNING: ../src/learner.cc:1115: Starting in XGBoost 1.3.0, the default evaluation metric used with the objective 'binary:logistic' was changed from 'error' to 'logloss'. Explicitly set eval_metric if you'd like to restore the old behavior.\n"
     ]
    }
   ],
   "source": [
    "xgb_model = XGBClassifier(max_depth = 4, n_estimators = 500)\n",
    "xgb_model.fit(features_train_new , cv_train)\n",
    "predictions_train = xgb_model.predict_proba(features_train_new)[:,1];"
   ]
  },
  {
   "cell_type": "code",
   "execution_count": 131,
   "id": "dddf0754",
   "metadata": {},
   "outputs": [
    {
     "data": {
      "image/png": "[encoded data removed]",
      "text/plain": [
       "<Figure size 1008x288 with 2 Axes>"
      ]
     },
     "metadata": {
      "needs_background": "light"
     },
     "output_type": "display_data"
    }
   ],
   "source": [
    "fig, img = plt.subplots(1,2, figsize = (14,4))\n",
    "img[0].hist(predictions_train[cv_train==0], bins = 100)\n",
    "img[0].hist(predictions_train[cv_train==1], bins = 100)\n",
    "img[0].set_title(\"Probablities Distribution by Class for Train Set\")\n",
    "img[0].legend([\"0\",\"1\"])\n",
    "\n",
    "preds_labels = pd.DataFrame({\"LR_predictions\":predictions_train, \"y\":cv_train})\n",
    "sns.boxplot(x=\"y\", y=\"LR_predictions\", data = preds_labels, ax = img[1])\n",
    "img[1].set_ylabel(\"Predicted Probablities\")\n",
    "img[1].set_xlabel(\"Duplicate\")\n",
    "img[1].set_title(\"Probablities by Class for Train Set\");"
   ]
  },
  {
   "cell_type": "code",
   "execution_count": 132,
   "id": "9f3b49d1",
   "metadata": {},
   "outputs": [],
   "source": [
    "predictions_test = xgb_model.predict_proba(features_test_new)[:,1]\n",
    "log_loss_score = log_loss(cv_test, predictions_test)\n",
    "accuracy = xgb_model.score(features_test_new, cv_test)"
   ]
  },
  {
   "cell_type": "code",
   "execution_count": 133,
   "id": "3cf4fa69",
   "metadata": {},
   "outputs": [
    {
     "data": {
      "image/png": "[encoded data removed]",
      "text/plain": [
       "<Figure size 1008x288 with 2 Axes>"
      ]
     },
     "metadata": {
      "needs_background": "light"
     },
     "output_type": "display_data"
    }
   ],
   "source": [
    "fig, img = plt.subplots(1,2, figsize = (14,4))\n",
    "img[0].hist(predictions_test[cv_test==0], bins = 100)\n",
    "img[0].hist(predictions_test[cv_test==1], bins = 100)\n",
    "img[0].set_title(\"Probablities Distribution by Class for Test Set\")\n",
    "img[0].legend([\"0\",\"1\"])\n",
    "\n",
    "preds_labels = pd.DataFrame({\"LR_predictions\":predictions_test, \"y\":cv_test})\n",
    "sns.boxplot(x=\"y\", y=\"LR_predictions\", data = preds_labels, ax = img[1])\n",
    "img[1].set_ylabel(\"Predicted Probablities\")\n",
    "img[1].set_xlabel(\"Duplicate\")\n",
    "img[1].set_title(\"Probablities by Class for Test Set\");\n"
   ]
  },
  {
   "cell_type": "code",
   "execution_count": 134,
   "id": "2fa97e8b",
   "metadata": {},
   "outputs": [],
   "source": [
    "cosine_summary  = cosine_summary.append({\"Model Type using Diff_len & Char_counts\":\"XGBoost\", \"Log Loss Score\":np.round(log_loss_score,4), \"Accuracy Score\":np.round(accuracy,4)}, ignore_index = True)\n"
   ]
  },
  {
   "cell_type": "code",
   "execution_count": 135,
   "id": "d2a955bb",
   "metadata": {},
   "outputs": [
    {
     "data": {
      "text/html": [
       "<div>\n",
       "<style scoped>\n",
       "    .dataframe tbody tr th:only-of-type {\n",
       "        vertical-align: middle;\n",
       "    }\n",
       "\n",
       "    .dataframe tbody tr th {\n",
       "        vertical-align: top;\n",
       "    }\n",
       "\n",
       "    .dataframe thead th {\n",
       "        text-align: right;\n",
       "    }\n",
       "</style>\n",
       "<table border=\"1\" class=\"dataframe\">\n",
       "  <thead>\n",
       "    <tr style=\"text-align: right;\">\n",
       "      <th></th>\n",
       "      <th>Model Type using Diff_len &amp; Char_counts</th>\n",
       "      <th>Log Loss Score</th>\n",
       "      <th>Accuracy Score</th>\n",
       "    </tr>\n",
       "  </thead>\n",
       "  <tbody>\n",
       "    <tr>\n",
       "      <th>0</th>\n",
       "      <td>Logistic Regression</td>\n",
       "      <td>0.5715</td>\n",
       "      <td>0.6571</td>\n",
       "    </tr>\n",
       "    <tr>\n",
       "      <th>1</th>\n",
       "      <td>Random Forest</td>\n",
       "      <td>0.5422</td>\n",
       "      <td>0.6792</td>\n",
       "    </tr>\n",
       "    <tr>\n",
       "      <th>2</th>\n",
       "      <td>XGBoost</td>\n",
       "      <td>0.5404</td>\n",
       "      <td>0.6791</td>\n",
       "    </tr>\n",
       "  </tbody>\n",
       "</table>\n",
       "</div>"
      ],
      "text/plain": [
       "  Model Type using Diff_len & Char_counts  Log Loss Score  Accuracy Score\n",
       "0                     Logistic Regression          0.5715          0.6571\n",
       "1                           Random Forest          0.5422          0.6792\n",
       "2                                 XGBoost          0.5404          0.6791"
      ]
     },
     "execution_count": 135,
     "metadata": {},
     "output_type": "execute_result"
    }
   ],
   "source": [
    "cosine_summary"
   ]
  },
  {
   "cell_type": "markdown",
   "id": "bc810a83",
   "metadata": {},
   "source": [
    "# Using Grid Search to find the best hyperparameters for XGBoost\n",
    "\n",
    "used the concept and code explained in the link https://machinelearningmastery.com/tune-number-size-decision-trees-xgboost-python/\n",
    "    "
   ]
  },
  {
   "cell_type": "markdown",
   "id": "9fcfc48e",
   "metadata": {},
   "source": [
    "### Using n_estimators = [50, 100, 150, 200] and max_depth = [4, 5, 6]"
   ]
  },
  {
   "cell_type": "code",
   "execution_count": 136,
   "id": "3e3853b8",
   "metadata": {
    "scrolled": false
   },
   "outputs": [
    {
     "name": "stdout",
     "output_type": "stream",
     "text": [
      "[4, 5, 6]\n",
      "Fitting 10 folds for each of 12 candidates, totalling 120 fits\n",
      "[23:07:42] WARNING: ../src/learner.cc:1115: Starting in XGBoost 1.3.0, the default evaluation metric used with the objective 'binary:logistic' was changed from 'error' to 'logloss'. Explicitly set eval_metric if you'd like to restore the old behavior.\n",
      "Best: -0.543134 using {'max_depth': 4, 'n_estimators': 200}\n",
      "-0.543898 (0.001541) with: {'max_depth': 4, 'n_estimators': 50}\n",
      "-0.543516 (0.001577) with: {'max_depth': 4, 'n_estimators': 100}\n",
      "-0.543291 (0.001611) with: {'max_depth': 4, 'n_estimators': 150}\n",
      "-0.543134 (0.001645) with: {'max_depth': 4, 'n_estimators': 200}\n",
      "-0.543708 (0.001669) with: {'max_depth': 5, 'n_estimators': 50}\n",
      "-0.543419 (0.001605) with: {'max_depth': 5, 'n_estimators': 100}\n",
      "-0.543307 (0.001571) with: {'max_depth': 5, 'n_estimators': 150}\n",
      "-0.543243 (0.001713) with: {'max_depth': 5, 'n_estimators': 200}\n",
      "-0.543569 (0.001611) with: {'max_depth': 6, 'n_estimators': 50}\n",
      "-0.543383 (0.001631) with: {'max_depth': 6, 'n_estimators': 100}\n",
      "-0.543333 (0.001608) with: {'max_depth': 6, 'n_estimators': 150}\n",
      "-0.543358 (0.001651) with: {'max_depth': 6, 'n_estimators': 200}\n"
     ]
    },
    {
     "data": {
      "image/png": "[encoded data removed]",
      "text/plain": [
       "<Figure size 432x288 with 1 Axes>"
      ]
     },
     "metadata": {
      "needs_background": "light"
     },
     "output_type": "display_data"
    }
   ],
   "source": [
    "from pandas import read_csv\n",
    "from xgboost import XGBClassifier\n",
    "from sklearn.model_selection import GridSearchCV\n",
    "from sklearn.model_selection import StratifiedKFold\n",
    "from sklearn.preprocessing import LabelEncoder\n",
    "import matplotlib\n",
    "matplotlib.use('Agg')\n",
    "from matplotlib import pyplot\n",
    "import numpy\n",
    "model = XGBClassifier(use_label_encoder=False)\n",
    "n_estimators = [50, 100, 150, 200]\n",
    "max_depth = [4, 5, 6]\n",
    "print(max_depth)\n",
    "param_grid = dict(max_depth=max_depth, n_estimators=n_estimators)\n",
    "kfold = StratifiedKFold(n_splits=10, shuffle=True, random_state=7)\n",
    "grid_search = GridSearchCV(model, param_grid, scoring=\"neg_log_loss\", n_jobs=-1, cv=kfold, verbose=1)\n",
    "grid_result = grid_search.fit(features_train_new, cv_train)\n",
    "# summarize results\n",
    "print(\"Best: %f using %s\" % (grid_result.best_score_, grid_result.best_params_))\n",
    "means = grid_result.cv_results_['mean_test_score']\n",
    "stds = grid_result.cv_results_['std_test_score']\n",
    "params = grid_result.cv_results_['params']\n",
    "for mean, stdev, param in zip(means, stds, params):\n",
    "\tprint(\"%f (%f) with: %r\" % (mean, stdev, param))\n",
    "# plot results\n",
    "scores = numpy.array(means).reshape(len(max_depth), len(n_estimators))\n",
    "for i, value in enumerate(max_depth):\n",
    "    pyplot.plot(n_estimators, scores[i], label='depth: ' + str(value))\n",
    "pyplot.legend()\n",
    "pyplot.xlabel('n_estimators')\n",
    "pyplot.ylabel('Log Loss')\n",
    "pyplot.savefig('n_estimators_vs_max_depth.png')"
   ]
  },
  {
   "cell_type": "markdown",
   "id": "868498f4",
   "metadata": {},
   "source": [
    "#### found that max_depth': 4, 'n_estimators': 200 and yielded better logloss value"
   ]
  },
  {
   "cell_type": "markdown",
   "id": "747df83d",
   "metadata": {},
   "source": [
    "### Using n_estimators = [150, 200, 250, 300, 500] and max_depth = [4]"
   ]
  },
  {
   "cell_type": "code",
   "execution_count": 75,
   "id": "f0cf7092",
   "metadata": {},
   "outputs": [
    {
     "name": "stdout",
     "output_type": "stream",
     "text": [
      "[4]\n",
      "Fitting 10 folds for each of 5 candidates, totalling 50 fits\n",
      "[16:24:18] WARNING: ../src/learner.cc:1115: Starting in XGBoost 1.3.0, the default evaluation metric used with the objective 'binary:logistic' was changed from 'error' to 'logloss'. Explicitly set eval_metric if you'd like to restore the old behavior.\n",
      "Best: -0.543016 using {'max_depth': 4, 'n_estimators': 500}\n",
      "-0.543291 (0.001611) with: {'max_depth': 4, 'n_estimators': 150}\n",
      "-0.543134 (0.001645) with: {'max_depth': 4, 'n_estimators': 200}\n",
      "-0.543118 (0.001620) with: {'max_depth': 4, 'n_estimators': 250}\n",
      "-0.543059 (0.001654) with: {'max_depth': 4, 'n_estimators': 300}\n",
      "-0.543016 (0.001703) with: {'max_depth': 4, 'n_estimators': 500}\n"
     ]
    },
    {
     "data": {
      "image/png": "[encoded data removed]",
      "text/plain": [
       "<Figure size 432x288 with 1 Axes>"
      ]
     },
     "metadata": {
      "needs_background": "light"
     },
     "output_type": "display_data"
    }
   ],
   "source": [
    "from pandas import read_csv\n",
    "from xgboost import XGBClassifier\n",
    "from sklearn.model_selection import GridSearchCV\n",
    "from sklearn.model_selection import StratifiedKFold\n",
    "from sklearn.preprocessing import LabelEncoder\n",
    "import matplotlib\n",
    "matplotlib.use('Agg')\n",
    "from matplotlib import pyplot\n",
    "import numpy\n",
    "model = XGBClassifier(use_label_encoder=False)\n",
    "n_estimators = [150, 200, 250, 300, 500]\n",
    "max_depth = [4]\n",
    "print(max_depth)\n",
    "param_grid = dict(max_depth=max_depth, n_estimators=n_estimators)\n",
    "kfold = StratifiedKFold(n_splits=10, shuffle=True, random_state=7)\n",
    "grid_search = GridSearchCV(model, param_grid, scoring=\"neg_log_loss\", n_jobs=-1, cv=kfold, verbose=1)\n",
    "grid_result = grid_search.fit(features_train_new, cv_train)\n",
    "# summarize results\n",
    "print(\"Best: %f using %s\" % (grid_result.best_score_, grid_result.best_params_))\n",
    "means = grid_result.cv_results_['mean_test_score']\n",
    "stds = grid_result.cv_results_['std_test_score']\n",
    "params = grid_result.cv_results_['params']\n",
    "for mean, stdev, param in zip(means, stds, params):\n",
    "\tprint(\"%f (%f) with: %r\" % (mean, stdev, param))\n",
    "# plot results\n",
    "scores = numpy.array(means).reshape(len(max_depth), len(n_estimators))\n",
    "for i, value in enumerate(max_depth):\n",
    "    pyplot.plot(n_estimators, scores[i], label='depth: ' + str(value))\n",
    "pyplot.legend()\n",
    "pyplot.xlabel('n_estimators')\n",
    "pyplot.ylabel('Log Loss')\n",
    "pyplot.savefig('n_estimators_vs_max_depth for 4.png')"
   ]
  },
  {
   "cell_type": "markdown",
   "id": "35b0998a",
   "metadata": {},
   "source": [
    "Found that estimators of 500 is giving the best log loss value"
   ]
  },
  {
   "cell_type": "markdown",
   "id": "6d78ade9",
   "metadata": {},
   "source": [
    "### Using n_estimators = [500, 1000, 1500] and max_depth = [4]"
   ]
  },
  {
   "cell_type": "code",
   "execution_count": 76,
   "id": "c167ebb1",
   "metadata": {},
   "outputs": [
    {
     "name": "stdout",
     "output_type": "stream",
     "text": [
      "[4]\n",
      "Fitting 10 folds for each of 3 candidates, totalling 30 fits\n",
      "[16:41:53] WARNING: ../src/learner.cc:1115: Starting in XGBoost 1.3.0, the default evaluation metric used with the objective 'binary:logistic' was changed from 'error' to 'logloss'. Explicitly set eval_metric if you'd like to restore the old behavior.\n",
      "Best: -0.543016 using {'max_depth': 4, 'n_estimators': 500}\n",
      "-0.543016 (0.001703) with: {'max_depth': 4, 'n_estimators': 500}\n",
      "-0.543670 (0.001669) with: {'max_depth': 4, 'n_estimators': 1000}\n",
      "-0.544403 (0.001727) with: {'max_depth': 4, 'n_estimators': 1500}\n"
     ]
    },
    {
     "data": {
      "image/png": "[encoded data removed]",
      "text/plain": [
       "<Figure size 432x288 with 1 Axes>"
      ]
     },
     "metadata": {
      "needs_background": "light"
     },
     "output_type": "display_data"
    },
    {
     "name": "stdout",
     "output_type": "stream",
     "text": [
      "[16:17:44] WARNING: ../src/learner.cc:1115: Starting in XGBoost 1.3.0, the default evaluation metric used with the objective 'binary:logistic' was changed from 'error' to 'logloss'. Explicitly set eval_metric if you'd like to restore the old behavior.\n",
      "[16:18:12] WARNING: ../src/learner.cc:1115: Starting in XGBoost 1.3.0, the default evaluation metric used with the objective 'binary:logistic' was changed from 'error' to 'logloss'. Explicitly set eval_metric if you'd like to restore the old behavior.\n",
      "[16:18:53] WARNING: ../src/learner.cc:1115: Starting in XGBoost 1.3.0, the default evaluation metric used with the objective 'binary:logistic' was changed from 'error' to 'logloss'. Explicitly set eval_metric if you'd like to restore the old behavior.\n",
      "[16:19:46] WARNING: ../src/learner.cc:1115: Starting in XGBoost 1.3.0, the default evaluation metric used with the objective 'binary:logistic' was changed from 'error' to 'logloss'. Explicitly set eval_metric if you'd like to restore the old behavior.\n",
      "[16:20:43] WARNING: ../src/learner.cc:1115: Starting in XGBoost 1.3.0, the default evaluation metric used with the objective 'binary:logistic' was changed from 'error' to 'logloss'. Explicitly set eval_metric if you'd like to restore the old behavior.\n",
      "[16:21:55] WARNING: ../src/learner.cc:1115: Starting in XGBoost 1.3.0, the default evaluation metric used with the objective 'binary:logistic' was changed from 'error' to 'logloss'. Explicitly set eval_metric if you'd like to restore the old behavior.\n",
      "[16:26:25] WARNING: ../src/learner.cc:1115: Starting in XGBoost 1.3.0, the default evaluation metric used with the objective 'binary:logistic' was changed from 'error' to 'logloss'. Explicitly set eval_metric if you'd like to restore the old behavior.\n",
      "[16:28:15] WARNING: ../src/learner.cc:1115: Starting in XGBoost 1.3.0, the default evaluation metric used with the objective 'binary:logistic' was changed from 'error' to 'logloss'. Explicitly set eval_metric if you'd like to restore the old behavior.\n",
      "[16:32:16] WARNING: ../src/learner.cc:1115: Starting in XGBoost 1.3.0, the default evaluation metric used with the objective 'binary:logistic' was changed from 'error' to 'logloss'. Explicitly set eval_metric if you'd like to restore the old behavior.\n",
      "[16:17:44] WARNING: ../src/learner.cc:1115: Starting in XGBoost 1.3.0, the default evaluation metric used with the objective 'binary:logistic' was changed from 'error' to 'logloss'. Explicitly set eval_metric if you'd like to restore the old behavior.\n",
      "[16:18:12] WARNING: ../src/learner.cc:1115: Starting in XGBoost 1.3.0, the default evaluation metric used with the objective 'binary:logistic' was changed from 'error' to 'logloss'. Explicitly set eval_metric if you'd like to restore the old behavior.\n",
      "[16:18:53] WARNING: ../src/learner.cc:1115: Starting in XGBoost 1.3.0, the default evaluation metric used with the objective 'binary:logistic' was changed from 'error' to 'logloss'. Explicitly set eval_metric if you'd like to restore the old behavior.\n",
      "[16:19:46] WARNING: ../src/learner.cc:1115: Starting in XGBoost 1.3.0, the default evaluation metric used with the objective 'binary:logistic' was changed from 'error' to 'logloss'. Explicitly set eval_metric if you'd like to restore the old behavior.\n",
      "[16:20:54] WARNING: ../src/learner.cc:1115: Starting in XGBoost 1.3.0, the default evaluation metric used with the objective 'binary:logistic' was changed from 'error' to 'logloss'. Explicitly set eval_metric if you'd like to restore the old behavior.\n",
      "[16:22:07] WARNING: ../src/learner.cc:1115: Starting in XGBoost 1.3.0, the default evaluation metric used with the objective 'binary:logistic' was changed from 'error' to 'logloss'. Explicitly set eval_metric if you'd like to restore the old behavior.\n",
      "[16:26:25] WARNING: ../src/learner.cc:1115: Starting in XGBoost 1.3.0, the default evaluation metric used with the objective 'binary:logistic' was changed from 'error' to 'logloss'. Explicitly set eval_metric if you'd like to restore the old behavior.\n",
      "[16:28:15] WARNING: ../src/learner.cc:1115: Starting in XGBoost 1.3.0, the default evaluation metric used with the objective 'binary:logistic' was changed from 'error' to 'logloss'. Explicitly set eval_metric if you'd like to restore the old behavior.\n",
      "[16:32:18] WARNING: ../src/learner.cc:1115: Starting in XGBoost 1.3.0, the default evaluation metric used with the objective 'binary:logistic' was changed from 'error' to 'logloss'. Explicitly set eval_metric if you'd like to restore the old behavior.\n",
      "[16:17:44] WARNING: ../src/learner.cc:1115: Starting in XGBoost 1.3.0, the default evaluation metric used with the objective 'binary:logistic' was changed from 'error' to 'logloss'. Explicitly set eval_metric if you'd like to restore the old behavior.\n",
      "[16:18:12] WARNING: ../src/learner.cc:1115: Starting in XGBoost 1.3.0, the default evaluation metric used with the objective 'binary:logistic' was changed from 'error' to 'logloss'. Explicitly set eval_metric if you'd like to restore the old behavior.\n",
      "[16:18:42] WARNING: ../src/learner.cc:1115: Starting in XGBoost 1.3.0, the default evaluation metric used with the objective 'binary:logistic' was changed from 'error' to 'logloss'. Explicitly set eval_metric if you'd like to restore the old behavior.\n",
      "[16:19:24] WARNING: ../src/learner.cc:1115: Starting in XGBoost 1.3.0, the default evaluation metric used with the objective 'binary:logistic' was changed from 'error' to 'logloss'. Explicitly set eval_metric if you'd like to restore the old behavior.\n",
      "[16:20:21] WARNING: ../src/learner.cc:1115: Starting in XGBoost 1.3.0, the default evaluation metric used with the objective 'binary:logistic' was changed from 'error' to 'logloss'. Explicitly set eval_metric if you'd like to restore the old behavior.\n",
      "[16:21:27] WARNING: ../src/learner.cc:1115: Starting in XGBoost 1.3.0, the default evaluation metric used with the objective 'binary:logistic' was changed from 'error' to 'logloss'. Explicitly set eval_metric if you'd like to restore the old behavior.\n",
      "[16:23:26] WARNING: ../src/learner.cc:1115: Starting in XGBoost 1.3.0, the default evaluation metric used with the objective 'binary:logistic' was changed from 'error' to 'logloss'. Explicitly set eval_metric if you'd like to restore the old behavior.\n",
      "[16:26:25] WARNING: ../src/learner.cc:1115: Starting in XGBoost 1.3.0, the default evaluation metric used with the objective 'binary:logistic' was changed from 'error' to 'logloss'. Explicitly set eval_metric if you'd like to restore the old behavior.\n",
      "[16:28:13] WARNING: ../src/learner.cc:1115: Starting in XGBoost 1.3.0, the default evaluation metric used with the objective 'binary:logistic' was changed from 'error' to 'logloss'. Explicitly set eval_metric if you'd like to restore the old behavior.\n",
      "[16:30:19] WARNING: ../src/learner.cc:1115: Starting in XGBoost 1.3.0, the default evaluation metric used with the objective 'binary:logistic' was changed from 'error' to 'logloss'. Explicitly set eval_metric if you'd like to restore the old behavior.\n",
      "[16:34:12] WARNING: ../src/learner.cc:1115: Starting in XGBoost 1.3.0, the default evaluation metric used with the objective 'binary:logistic' was changed from 'error' to 'logloss'. Explicitly set eval_metric if you'd like to restore the old behavior.\n",
      "[16:17:44] WARNING: ../src/learner.cc:1115: Starting in XGBoost 1.3.0, the default evaluation metric used with the objective 'binary:logistic' was changed from 'error' to 'logloss'. Explicitly set eval_metric if you'd like to restore the old behavior.\n",
      "[16:18:12] WARNING: ../src/learner.cc:1115: Starting in XGBoost 1.3.0, the default evaluation metric used with the objective 'binary:logistic' was changed from 'error' to 'logloss'. Explicitly set eval_metric if you'd like to restore the old behavior.\n",
      "[16:18:52] WARNING: ../src/learner.cc:1115: Starting in XGBoost 1.3.0, the default evaluation metric used with the objective 'binary:logistic' was changed from 'error' to 'logloss'. Explicitly set eval_metric if you'd like to restore the old behavior.\n",
      "[16:19:34] WARNING: ../src/learner.cc:1115: Starting in XGBoost 1.3.0, the default evaluation metric used with the objective 'binary:logistic' was changed from 'error' to 'logloss'. Explicitly set eval_metric if you'd like to restore the old behavior.\n",
      "[16:20:32] WARNING: ../src/learner.cc:1115: Starting in XGBoost 1.3.0, the default evaluation metric used with the objective 'binary:logistic' was changed from 'error' to 'logloss'. Explicitly set eval_metric if you'd like to restore the old behavior.\n",
      "[16:21:42] WARNING: ../src/learner.cc:1115: Starting in XGBoost 1.3.0, the default evaluation metric used with the objective 'binary:logistic' was changed from 'error' to 'logloss'. Explicitly set eval_metric if you'd like to restore the old behavior.\n",
      "[16:26:25] WARNING: ../src/learner.cc:1115: Starting in XGBoost 1.3.0, the default evaluation metric used with the objective 'binary:logistic' was changed from 'error' to 'logloss'. Explicitly set eval_metric if you'd like to restore the old behavior.\n",
      "[16:28:13] WARNING: ../src/learner.cc:1115: Starting in XGBoost 1.3.0, the default evaluation metric used with the objective 'binary:logistic' was changed from 'error' to 'logloss'. Explicitly set eval_metric if you'd like to restore the old behavior.\n",
      "[16:30:19] WARNING: ../src/learner.cc:1115: Starting in XGBoost 1.3.0, the default evaluation metric used with the objective 'binary:logistic' was changed from 'error' to 'logloss'. Explicitly set eval_metric if you'd like to restore the old behavior.\n",
      "[16:34:14] WARNING: ../src/learner.cc:1115: Starting in XGBoost 1.3.0, the default evaluation metric used with the objective 'binary:logistic' was changed from 'error' to 'logloss'. Explicitly set eval_metric if you'd like to restore the old behavior.\n"
     ]
    },
    {
     "name": "stdout",
     "output_type": "stream",
     "text": [
      "[16:17:44] WARNING: ../src/learner.cc:1115: Starting in XGBoost 1.3.0, the default evaluation metric used with the objective 'binary:logistic' was changed from 'error' to 'logloss'. Explicitly set eval_metric if you'd like to restore the old behavior.\n",
      "[16:18:12] WARNING: ../src/learner.cc:1115: Starting in XGBoost 1.3.0, the default evaluation metric used with the objective 'binary:logistic' was changed from 'error' to 'logloss'. Explicitly set eval_metric if you'd like to restore the old behavior.\n",
      "[16:18:52] WARNING: ../src/learner.cc:1115: Starting in XGBoost 1.3.0, the default evaluation metric used with the objective 'binary:logistic' was changed from 'error' to 'logloss'. Explicitly set eval_metric if you'd like to restore the old behavior.\n",
      "[16:19:46] WARNING: ../src/learner.cc:1115: Starting in XGBoost 1.3.0, the default evaluation metric used with the objective 'binary:logistic' was changed from 'error' to 'logloss'. Explicitly set eval_metric if you'd like to restore the old behavior.\n",
      "[16:20:55] WARNING: ../src/learner.cc:1115: Starting in XGBoost 1.3.0, the default evaluation metric used with the objective 'binary:logistic' was changed from 'error' to 'logloss'. Explicitly set eval_metric if you'd like to restore the old behavior.\n",
      "[16:22:07] WARNING: ../src/learner.cc:1115: Starting in XGBoost 1.3.0, the default evaluation metric used with the objective 'binary:logistic' was changed from 'error' to 'logloss'. Explicitly set eval_metric if you'd like to restore the old behavior.\n",
      "[16:26:25] WARNING: ../src/learner.cc:1115: Starting in XGBoost 1.3.0, the default evaluation metric used with the objective 'binary:logistic' was changed from 'error' to 'logloss'. Explicitly set eval_metric if you'd like to restore the old behavior.\n",
      "[16:28:14] WARNING: ../src/learner.cc:1115: Starting in XGBoost 1.3.0, the default evaluation metric used with the objective 'binary:logistic' was changed from 'error' to 'logloss'. Explicitly set eval_metric if you'd like to restore the old behavior.\n",
      "[16:32:15] WARNING: ../src/learner.cc:1115: Starting in XGBoost 1.3.0, the default evaluation metric used with the objective 'binary:logistic' was changed from 'error' to 'logloss'. Explicitly set eval_metric if you'd like to restore the old behavior.\n",
      "[16:36:22] WARNING: ../src/learner.cc:1115: Starting in XGBoost 1.3.0, the default evaluation metric used with the objective 'binary:logistic' was changed from 'error' to 'logloss'. Explicitly set eval_metric if you'd like to restore the old behavior.\n",
      "[16:17:44] WARNING: ../src/learner.cc:1115: Starting in XGBoost 1.3.0, the default evaluation metric used with the objective 'binary:logistic' was changed from 'error' to 'logloss'. Explicitly set eval_metric if you'd like to restore the old behavior.\n",
      "[16:18:12] WARNING: ../src/learner.cc:1115: Starting in XGBoost 1.3.0, the default evaluation metric used with the objective 'binary:logistic' was changed from 'error' to 'logloss'. Explicitly set eval_metric if you'd like to restore the old behavior.\n",
      "[16:18:42] WARNING: ../src/learner.cc:1115: Starting in XGBoost 1.3.0, the default evaluation metric used with the objective 'binary:logistic' was changed from 'error' to 'logloss'. Explicitly set eval_metric if you'd like to restore the old behavior.\n",
      "[16:19:24] WARNING: ../src/learner.cc:1115: Starting in XGBoost 1.3.0, the default evaluation metric used with the objective 'binary:logistic' was changed from 'error' to 'logloss'. Explicitly set eval_metric if you'd like to restore the old behavior.\n",
      "[16:20:21] WARNING: ../src/learner.cc:1115: Starting in XGBoost 1.3.0, the default evaluation metric used with the objective 'binary:logistic' was changed from 'error' to 'logloss'. Explicitly set eval_metric if you'd like to restore the old behavior.\n",
      "[16:21:27] WARNING: ../src/learner.cc:1115: Starting in XGBoost 1.3.0, the default evaluation metric used with the objective 'binary:logistic' was changed from 'error' to 'logloss'. Explicitly set eval_metric if you'd like to restore the old behavior.\n",
      "[16:23:26] WARNING: ../src/learner.cc:1115: Starting in XGBoost 1.3.0, the default evaluation metric used with the objective 'binary:logistic' was changed from 'error' to 'logloss'. Explicitly set eval_metric if you'd like to restore the old behavior.\n",
      "[16:26:25] WARNING: ../src/learner.cc:1115: Starting in XGBoost 1.3.0, the default evaluation metric used with the objective 'binary:logistic' was changed from 'error' to 'logloss'. Explicitly set eval_metric if you'd like to restore the old behavior.\n",
      "[16:28:14] WARNING: ../src/learner.cc:1115: Starting in XGBoost 1.3.0, the default evaluation metric used with the objective 'binary:logistic' was changed from 'error' to 'logloss'. Explicitly set eval_metric if you'd like to restore the old behavior.\n",
      "[16:32:15] WARNING: ../src/learner.cc:1115: Starting in XGBoost 1.3.0, the default evaluation metric used with the objective 'binary:logistic' was changed from 'error' to 'logloss'. Explicitly set eval_metric if you'd like to restore the old behavior.\n",
      "[16:36:23] WARNING: ../src/learner.cc:1115: Starting in XGBoost 1.3.0, the default evaluation metric used with the objective 'binary:logistic' was changed from 'error' to 'logloss'. Explicitly set eval_metric if you'd like to restore the old behavior.\n",
      "[16:17:44] WARNING: ../src/learner.cc:1115: Starting in XGBoost 1.3.0, the default evaluation metric used with the objective 'binary:logistic' was changed from 'error' to 'logloss'. Explicitly set eval_metric if you'd like to restore the old behavior.\n",
      "[16:18:12] WARNING: ../src/learner.cc:1115: Starting in XGBoost 1.3.0, the default evaluation metric used with the objective 'binary:logistic' was changed from 'error' to 'logloss'. Explicitly set eval_metric if you'd like to restore the old behavior.\n",
      "[16:18:52] WARNING: ../src/learner.cc:1115: Starting in XGBoost 1.3.0, the default evaluation metric used with the objective 'binary:logistic' was changed from 'error' to 'logloss'. Explicitly set eval_metric if you'd like to restore the old behavior.\n",
      "[16:19:45] WARNING: ../src/learner.cc:1115: Starting in XGBoost 1.3.0, the default evaluation metric used with the objective 'binary:logistic' was changed from 'error' to 'logloss'. Explicitly set eval_metric if you'd like to restore the old behavior.\n",
      "[16:20:43] WARNING: ../src/learner.cc:1115: Starting in XGBoost 1.3.0, the default evaluation metric used with the objective 'binary:logistic' was changed from 'error' to 'logloss'. Explicitly set eval_metric if you'd like to restore the old behavior.\n",
      "[16:21:56] WARNING: ../src/learner.cc:1115: Starting in XGBoost 1.3.0, the default evaluation metric used with the objective 'binary:logistic' was changed from 'error' to 'logloss'. Explicitly set eval_metric if you'd like to restore the old behavior.\n",
      "[16:26:25] WARNING: ../src/learner.cc:1115: Starting in XGBoost 1.3.0, the default evaluation metric used with the objective 'binary:logistic' was changed from 'error' to 'logloss'. Explicitly set eval_metric if you'd like to restore the old behavior.\n",
      "[16:28:14] WARNING: ../src/learner.cc:1115: Starting in XGBoost 1.3.0, the default evaluation metric used with the objective 'binary:logistic' was changed from 'error' to 'logloss'. Explicitly set eval_metric if you'd like to restore the old behavior.\n",
      "[16:32:15] WARNING: ../src/learner.cc:1115: Starting in XGBoost 1.3.0, the default evaluation metric used with the objective 'binary:logistic' was changed from 'error' to 'logloss'. Explicitly set eval_metric if you'd like to restore the old behavior.\n",
      "[16:38:32] WARNING: ../src/learner.cc:1115: Starting in XGBoost 1.3.0, the default evaluation metric used with the objective 'binary:logistic' was changed from 'error' to 'logloss'. Explicitly set eval_metric if you'd like to restore the old behavior.\n",
      "[16:17:44] WARNING: ../src/learner.cc:1115: Starting in XGBoost 1.3.0, the default evaluation metric used with the objective 'binary:logistic' was changed from 'error' to 'logloss'. Explicitly set eval_metric if you'd like to restore the old behavior.\n",
      "[16:18:12] WARNING: ../src/learner.cc:1115: Starting in XGBoost 1.3.0, the default evaluation metric used with the objective 'binary:logistic' was changed from 'error' to 'logloss'. Explicitly set eval_metric if you'd like to restore the old behavior.\n",
      "[16:18:52] WARNING: ../src/learner.cc:1115: Starting in XGBoost 1.3.0, the default evaluation metric used with the objective 'binary:logistic' was changed from 'error' to 'logloss'. Explicitly set eval_metric if you'd like to restore the old behavior.\n",
      "[16:19:35] WARNING: ../src/learner.cc:1115: Starting in XGBoost 1.3.0, the default evaluation metric used with the objective 'binary:logistic' was changed from 'error' to 'logloss'. Explicitly set eval_metric if you'd like to restore the old behavior.\n",
      "[16:20:33] WARNING: ../src/learner.cc:1115: Starting in XGBoost 1.3.0, the default evaluation metric used with the objective 'binary:logistic' was changed from 'error' to 'logloss'. Explicitly set eval_metric if you'd like to restore the old behavior.\n",
      "[16:21:42] WARNING: ../src/learner.cc:1115: Starting in XGBoost 1.3.0, the default evaluation metric used with the objective 'binary:logistic' was changed from 'error' to 'logloss'. Explicitly set eval_metric if you'd like to restore the old behavior.\n",
      "[16:26:25] WARNING: ../src/learner.cc:1115: Starting in XGBoost 1.3.0, the default evaluation metric used with the objective 'binary:logistic' was changed from 'error' to 'logloss'. Explicitly set eval_metric if you'd like to restore the old behavior.\n",
      "[16:28:15] WARNING: ../src/learner.cc:1115: Starting in XGBoost 1.3.0, the default evaluation metric used with the objective 'binary:logistic' was changed from 'error' to 'logloss'. Explicitly set eval_metric if you'd like to restore the old behavior.\n",
      "[16:32:17] WARNING: ../src/learner.cc:1115: Starting in XGBoost 1.3.0, the default evaluation metric used with the objective 'binary:logistic' was changed from 'error' to 'logloss'. Explicitly set eval_metric if you'd like to restore the old behavior.\n",
      "[16:38:35] WARNING: ../src/learner.cc:1115: Starting in XGBoost 1.3.0, the default evaluation metric used with the objective 'binary:logistic' was changed from 'error' to 'logloss'. Explicitly set eval_metric if you'd like to restore the old behavior.\n"
     ]
    }
   ],
   "source": [
    "from pandas import read_csv\n",
    "from xgboost import XGBClassifier\n",
    "from sklearn.model_selection import GridSearchCV\n",
    "from sklearn.model_selection import StratifiedKFold\n",
    "from sklearn.preprocessing import LabelEncoder\n",
    "import matplotlib\n",
    "matplotlib.use('Agg')\n",
    "from matplotlib import pyplot\n",
    "import numpy\n",
    "model = XGBClassifier(use_label_encoder=False)\n",
    "n_estimators = [500, 1000, 1500]\n",
    "max_depth = [4]\n",
    "print(max_depth)\n",
    "param_grid = dict(max_depth=max_depth, n_estimators=n_estimators)\n",
    "kfold = StratifiedKFold(n_splits=10, shuffle=True, random_state=7)\n",
    "grid_search = GridSearchCV(model, param_grid, scoring=\"neg_log_loss\", n_jobs=-1, cv=kfold, verbose=1)\n",
    "grid_result = grid_search.fit(features_train_new, cv_train)\n",
    "# summarize results\n",
    "print(\"Best: %f using %s\" % (grid_result.best_score_, grid_result.best_params_))\n",
    "means = grid_result.cv_results_['mean_test_score']\n",
    "stds = grid_result.cv_results_['std_test_score']\n",
    "params = grid_result.cv_results_['params']\n",
    "for mean, stdev, param in zip(means, stds, params):\n",
    "\tprint(\"%f (%f) with: %r\" % (mean, stdev, param))\n",
    "# plot results\n",
    "scores = numpy.array(means).reshape(len(max_depth), len(n_estimators))\n",
    "for i, value in enumerate(max_depth):\n",
    "    pyplot.plot(n_estimators, scores[i], label='depth: ' + str(value))\n",
    "pyplot.legend()\n",
    "pyplot.xlabel('n_estimators')\n",
    "pyplot.ylabel('Log Loss')\n",
    "pyplot.savefig('n_estimators_vs_max_depth for 4.png')"
   ]
  },
  {
   "cell_type": "markdown",
   "id": "cabcb1cb",
   "metadata": {},
   "source": [
    "Found that upon training with n_estimators more than 500 the model is getting overfit impacting the value of logloss"
   ]
  },
  {
   "cell_type": "markdown",
   "id": "2163f938",
   "metadata": {},
   "source": [
    "# Using Grid Search to find the best hyperparameters for Random Forest"
   ]
  },
  {
   "cell_type": "markdown",
   "id": "08c03368",
   "metadata": {},
   "source": [
    "### Using n_estimators = [100,200] and max_depth = [4,5,6]"
   ]
  },
  {
   "cell_type": "code",
   "execution_count": 77,
   "id": "5519e6ff",
   "metadata": {},
   "outputs": [
    {
     "name": "stdout",
     "output_type": "stream",
     "text": [
      "[4, 5, 6]\n",
      "Fitting 10 folds for each of 6 candidates, totalling 60 fits\n",
      "Best: -0.546832 using {'max_depth': 6, 'n_estimators': 200}\n",
      "-0.554293 (0.001398) with: {'max_depth': 4, 'n_estimators': 100}\n",
      "-0.554306 (0.001731) with: {'max_depth': 4, 'n_estimators': 200}\n",
      "-0.549592 (0.001432) with: {'max_depth': 5, 'n_estimators': 100}\n",
      "-0.549835 (0.001511) with: {'max_depth': 5, 'n_estimators': 200}\n",
      "-0.546986 (0.001586) with: {'max_depth': 6, 'n_estimators': 100}\n",
      "-0.546832 (0.001712) with: {'max_depth': 6, 'n_estimators': 200}\n"
     ]
    },
    {
     "data": {
      "image/png": "[encoded data removed]",
      "text/plain": [
       "<Figure size 432x288 with 1 Axes>"
      ]
     },
     "metadata": {
      "needs_background": "light"
     },
     "output_type": "display_data"
    }
   ],
   "source": [
    "from pandas import read_csv\n",
    "from xgboost import XGBClassifier\n",
    "from sklearn.model_selection import GridSearchCV\n",
    "from sklearn.model_selection import StratifiedKFold\n",
    "import matplotlib\n",
    "from sklearn.ensemble import RandomForestClassifier\n",
    "matplotlib.use('Agg')\n",
    "from matplotlib import pyplot\n",
    "import numpy\n",
    "#model = XGBClassifier(use_label_encoder=False)\n",
    "model = RandomForestClassifier()\n",
    "n_estimators = [100,200]\n",
    "max_depth = [4,5,6]\n",
    "print(max_depth)\n",
    "param_grid = dict(max_depth=max_depth, n_estimators=n_estimators)\n",
    "kfold = StratifiedKFold(n_splits=10, shuffle=True, random_state=7)\n",
    "grid_search = GridSearchCV(model, param_grid, scoring=\"neg_log_loss\", n_jobs=-1, cv=kfold, verbose=1)\n",
    "grid_result = grid_search.fit(features_train_new, cv_train)\n",
    "# summarize results\n",
    "print(\"Best: %f using %s\" % (grid_result.best_score_, grid_result.best_params_))\n",
    "means = grid_result.cv_results_['mean_test_score']\n",
    "stds = grid_result.cv_results_['std_test_score']\n",
    "params = grid_result.cv_results_['params']\n",
    "for mean, stdev, param in zip(means, stds, params):\n",
    "\tprint(\"%f (%f) with: %r\" % (mean, stdev, param))\n",
    "# plot results\n",
    "scores = numpy.array(means).reshape(len(max_depth), len(n_estimators))\n",
    "for i, value in enumerate(max_depth):\n",
    "    pyplot.plot(n_estimators, scores[i], label='depth: ' + str(value))\n",
    "pyplot.legend()\n",
    "pyplot.xlabel('n_estimators')\n",
    "pyplot.ylabel('Log Loss')\n",
    "pyplot.savefig('n_estimators_vs_max_depth for 4.png')"
   ]
  },
  {
   "cell_type": "markdown",
   "id": "ae60433d",
   "metadata": {},
   "source": [
    "Found that max_depth': 6, 'n_estimators': 200 gave the best log loss value"
   ]
  },
  {
   "cell_type": "markdown",
   "id": "217dd991",
   "metadata": {},
   "source": [
    "### Using n_estimators = [200, 300, 500 ,700, 1000] and max_depth = [6]"
   ]
  },
  {
   "cell_type": "code",
   "execution_count": 78,
   "id": "811b5a9b",
   "metadata": {},
   "outputs": [
    {
     "name": "stdout",
     "output_type": "stream",
     "text": [
      "[6]\n",
      "Fitting 10 folds for each of 5 candidates, totalling 50 fits\n",
      "Best: -0.546819 using {'max_depth': 6, 'n_estimators': 700}\n",
      "-0.546926 (0.001545) with: {'max_depth': 6, 'n_estimators': 200}\n",
      "-0.546956 (0.001640) with: {'max_depth': 6, 'n_estimators': 300}\n",
      "-0.546898 (0.001675) with: {'max_depth': 6, 'n_estimators': 500}\n",
      "-0.546819 (0.001599) with: {'max_depth': 6, 'n_estimators': 700}\n",
      "-0.546862 (0.001659) with: {'max_depth': 6, 'n_estimators': 1000}\n"
     ]
    },
    {
     "data": {
      "image/png": "[encoded data removed]",
      "text/plain": [
       "<Figure size 432x288 with 1 Axes>"
      ]
     },
     "metadata": {
      "needs_background": "light"
     },
     "output_type": "display_data"
    }
   ],
   "source": [
    "from pandas import read_csv\n",
    "from xgboost import XGBClassifier\n",
    "from sklearn.model_selection import GridSearchCV\n",
    "from sklearn.model_selection import StratifiedKFold\n",
    "import matplotlib\n",
    "from sklearn.ensemble import RandomForestClassifier\n",
    "matplotlib.use('Agg')\n",
    "from matplotlib import pyplot\n",
    "import numpy\n",
    "#model = XGBClassifier(use_label_encoder=False)\n",
    "model = RandomForestClassifier()\n",
    "n_estimators = [200, 300, 500 ,700, 1000]\n",
    "max_depth = [6]\n",
    "print(max_depth)\n",
    "param_grid = dict(max_depth=max_depth, n_estimators=n_estimators)\n",
    "kfold = StratifiedKFold(n_splits=10, shuffle=True, random_state=7)\n",
    "grid_search = GridSearchCV(model, param_grid, scoring=\"neg_log_loss\", n_jobs=-1, cv=kfold, verbose=1)\n",
    "grid_result = grid_search.fit(features_train_new, cv_train)\n",
    "# summarize results\n",
    "print(\"Best: %f using %s\" % (grid_result.best_score_, grid_result.best_params_))\n",
    "means = grid_result.cv_results_['mean_test_score']\n",
    "stds = grid_result.cv_results_['std_test_score']\n",
    "params = grid_result.cv_results_['params']\n",
    "for mean, stdev, param in zip(means, stds, params):\n",
    "\tprint(\"%f (%f) with: %r\" % (mean, stdev, param))\n",
    "# plot results\n",
    "scores = numpy.array(means).reshape(len(max_depth), len(n_estimators))\n",
    "for i, value in enumerate(max_depth):\n",
    "    pyplot.plot(n_estimators, scores[i], label='depth: ' + str(value))\n",
    "pyplot.legend()\n",
    "pyplot.xlabel('n_estimators')\n",
    "pyplot.ylabel('Log Loss')\n",
    "pyplot.savefig('n_estimators_vs_max_depth for 4.png')"
   ]
  },
  {
   "cell_type": "code",
   "execution_count": 79,
   "id": "483058fb",
   "metadata": {},
   "outputs": [
    {
     "name": "stdout",
     "output_type": "stream",
     "text": [
      "[5, 6, 7, 8]\n",
      "Fitting 10 folds for each of 4 candidates, totalling 40 fits\n",
      "Best: -0.544588 using {'max_depth': 8, 'n_estimators': 700}\n",
      "-0.549733 (0.001577) with: {'max_depth': 5, 'n_estimators': 700}\n",
      "-0.546908 (0.001641) with: {'max_depth': 6, 'n_estimators': 700}\n",
      "-0.545369 (0.001691) with: {'max_depth': 7, 'n_estimators': 700}\n",
      "-0.544588 (0.001671) with: {'max_depth': 8, 'n_estimators': 700}\n"
     ]
    },
    {
     "data": {
      "image/png": "[encoded data removed]",
      "text/plain": [
       "<Figure size 432x288 with 1 Axes>"
      ]
     },
     "metadata": {
      "needs_background": "light"
     },
     "output_type": "display_data"
    }
   ],
   "source": [
    "from pandas import read_csv\n",
    "from xgboost import XGBClassifier\n",
    "from sklearn.model_selection import GridSearchCV\n",
    "from sklearn.model_selection import StratifiedKFold\n",
    "import matplotlib\n",
    "from sklearn.ensemble import RandomForestClassifier\n",
    "matplotlib.use('Agg')\n",
    "from matplotlib import pyplot\n",
    "import numpy\n",
    "#model = XGBClassifier(use_label_encoder=False)\n",
    "model = RandomForestClassifier()\n",
    "n_estimators = [700]\n",
    "max_depth = [5, 6, 7, 8]\n",
    "print(max_depth)\n",
    "param_grid = dict(max_depth=max_depth, n_estimators=n_estimators)\n",
    "kfold = StratifiedKFold(n_splits=10, shuffle=True, random_state=7)\n",
    "grid_search = GridSearchCV(model, param_grid, scoring=\"neg_log_loss\", n_jobs=-1, cv=kfold, verbose=1)\n",
    "grid_result = grid_search.fit(features_train_new, cv_train)\n",
    "# summarize results\n",
    "print(\"Best: %f using %s\" % (grid_result.best_score_, grid_result.best_params_))\n",
    "means = grid_result.cv_results_['mean_test_score']\n",
    "stds = grid_result.cv_results_['std_test_score']\n",
    "params = grid_result.cv_results_['params']\n",
    "for mean, stdev, param in zip(means, stds, params):\n",
    "\tprint(\"%f (%f) with: %r\" % (mean, stdev, param))\n",
    "# plot results\n",
    "scores = numpy.array(means).reshape(len(max_depth), len(n_estimators))\n",
    "for i, value in enumerate(max_depth):\n",
    "    pyplot.plot(n_estimators, scores[i], label='depth: ' + str(value))\n",
    "pyplot.legend()\n",
    "pyplot.xlabel('n_estimators')\n",
    "pyplot.ylabel('Log Loss')\n",
    "pyplot.savefig('n_estimators_vs_max_depth for 4.png')"
   ]
  },
  {
   "cell_type": "markdown",
   "id": "8e3af00e",
   "metadata": {},
   "source": [
    "#### at max_depth': 8, 'n_estimators': 700 we got the best log loss value"
   ]
  },
  {
   "cell_type": "code",
   "execution_count": null,
   "id": "f5811ea6",
   "metadata": {},
   "outputs": [],
   "source": []
  }
 ],
 "metadata": {
  "kernelspec": {
   "display_name": "Python 3 (ipykernel)",
   "language": "python",
   "name": "python3"
  },
  "language_info": {
   "codemirror_mode": {
    "name": "ipython",
    "version": 3
   },
   "file_extension": ".py",
   "mimetype": "text/x-python",
   "name": "python",
   "nbconvert_exporter": "python",
   "pygments_lexer": "ipython3",
   "version": "3.9.12"
  }
 },
 "nbformat": 4,
 "nbformat_minor": 5
}
